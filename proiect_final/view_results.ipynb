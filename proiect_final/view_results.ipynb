{
 "cells": [
  {
   "cell_type": "code",
   "execution_count": 33,
   "metadata": {},
   "outputs": [],
   "source": [
    "import numpy as np\n",
    "import matplotlib.pyplot as plt\n",
    "from scipy.fft import fft, ifft\n",
    "from io import BytesIO"
   ]
  },
  {
   "cell_type": "code",
   "execution_count": 55,
   "metadata": {},
   "outputs": [
    {
     "name": "stdout",
     "output_type": "stream",
     "text": [
      "True\n"
     ]
    },
    {
     "data": {
      "image/png": "[encoded data removed]",
      "text/plain": [
       "<Figure size 640x480 with 1 Axes>"
      ]
     },
     "metadata": {},
     "output_type": "display_data"
    }
   ],
   "source": [
    "with open('resources/img.shape', \"rb\") as f:\n",
    "    shape = int.from_bytes(f.read(4), 'little'), int.from_bytes(f.read(4), 'little')\n",
    "\n",
    "img_r = np.fromfile('resources/img_r.mat', dtype=np.uint8).reshape(shape)\n",
    "img_g = np.fromfile('resources/img_g.mat', dtype=np.uint8).reshape(shape)\n",
    "img_b = np.fromfile('resources/img_b.mat', dtype=np.uint8).reshape(shape)\n",
    "\n",
    "print(np.any(img_r!=img_g))\n",
    "\n",
    "img = np.array([img_b, img_g, img_r]).transpose((1, 2, 0))\n",
    "\n",
    "plt.imshow(img)\n",
    "plt.show()"
   ]
  },
  {
   "cell_type": "code",
   "execution_count": 66,
   "metadata": {},
   "outputs": [
    {
     "name": "stdout",
     "output_type": "stream",
     "text": [
      "[[631. -0.j   1. +4.j  -5. -0.j   1. -4.j]\n",
      " [630. -0.j   0.-16.j -10. -0.j   0.+16.j]]\n",
      "[[78.8125 78.8125  0.      0.    ]\n",
      " [-0.9375 -0.9375  0.      0.    ]]\n",
      "\n"
     ]
    }
   ],
   "source": [
    "\n",
    "fft_r = np.fromfile('output/fft_r.mat', dtype=np.float32).reshape(shape)\n",
    "fft_g = np.fromfile('output/fft_g.mat', dtype=np.float32).reshape(shape)\n",
    "fft_b = np.fromfile('output/fft_b.mat', dtype=np.float32).reshape(shape)\n",
    "\n",
    "expected_fft_r = fft(img_r)\n",
    "expected_fft_g = fft(img_g)\n",
    "expected_fft_b = fft(img_b)\n",
    "\n",
    "print(expected_fft_r/(shape[0]*shape[1]))\n",
    "print(fft_r)\n",
    "print()"
   ]
  },
  {
   "cell_type": "code",
   "execution_count": 47,
   "metadata": {},
   "outputs": [
    {
     "data": {
      "text/plain": [
       "array([10.+14.j, -4. +0.j, -2. -2.j,  0. -4.j])"
      ]
     },
     "execution_count": 47,
     "metadata": {},
     "output_type": "execute_result"
    }
   ],
   "source": [
    "test_arr = np.array([1 + 2j, 2 + 3j, 3 + 4j, 4 + 5j])\n",
    "fft(test_arr)"
   ]
  }
 ],
 "metadata": {
  "kernelspec": {
   "display_name": "Python 3",
   "language": "python",
   "name": "python3"
  },
  "language_info": {
   "codemirror_mode": {
    "name": "ipython",
    "version": 3
   },
   "file_extension": ".py",
   "mimetype": "text/x-python",
   "name": "python",
   "nbconvert_exporter": "python",
   "pygments_lexer": "ipython3",
   "version": "3.12.0"
  }
 },
 "nbformat": 4,
 "nbformat_minor": 2
}
