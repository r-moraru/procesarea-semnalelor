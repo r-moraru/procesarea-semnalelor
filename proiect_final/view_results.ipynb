{
 "cells": [
  {
   "cell_type": "code",
   "execution_count": 1,
   "metadata": {},
   "outputs": [],
   "source": [
    "import numpy as np\n",
    "from io import BytesIO"
   ]
  },
  {
   "cell_type": "code",
   "execution_count": 60,
   "metadata": {},
   "outputs": [
    {
     "name": "stdout",
     "output_type": "stream",
     "text": [
      "[[[249 249 249]\n",
      "  [249 249 249]\n",
      "  [249 249 249]\n",
      "  ...\n",
      "  [249 249 249]\n",
      "  [249 249 249]\n",
      "  [249 249 249]]\n",
      "\n",
      " [[249 249 249]\n",
      "  [249 249 249]\n",
      "  [249 249 249]\n",
      "  ...\n",
      "  [249 249 249]\n",
      "  [249 249 249]\n",
      "  [249 249 249]]\n",
      "\n",
      " [[249 249 249]\n",
      "  [249 249 249]\n",
      "  [249 249 249]\n",
      "  ...\n",
      "  [249 249 249]\n",
      "  [249 249 249]\n",
      "  [249 249 249]]\n",
      "\n",
      " ...\n",
      "\n",
      " [[249 249 249]\n",
      "  [249 249 249]\n",
      "  [249 249 249]\n",
      "  ...\n",
      "  [247 249 249]\n",
      "  [247 249 249]\n",
      "  [247 249 249]]\n",
      "\n",
      " [[249 249 249]\n",
      "  [249 249 249]\n",
      "  [249 249 249]\n",
      "  ...\n",
      "  [247 249 249]\n",
      "  [247 249 249]\n",
      "  [247 249 249]]\n",
      "\n",
      " [[247 249 249]\n",
      "  [247 249 249]\n",
      "  [247 249 249]\n",
      "  ...\n",
      "  [247 249 249]\n",
      "  [247 249 249]\n",
      "  [247 249 249]]]\n"
     ]
    }
   ],
   "source": [
    "with open('resources/poza_rgb.shape', \"rb\") as f:\n",
    "    shape = int.from_bytes(f.read(4), 'little'), int.from_bytes(f.read(4), 'little')\n",
    "\n",
    "img_r = np.fromfile('resources/poza_rgb.r', dtype=np.uint8).reshape(shape)\n",
    "img_g = np.fromfile('resources/poza_rgb.g', dtype=np.uint8).reshape(shape)\n",
    "img_b = np.fromfile('resources/poza_rgb.b', dtype=np.uint8).reshape(shape)\n",
    "\n",
    "img = np.array([img_r, img_g, img_b]).transpose((1, 2, 0))\n",
    "print(img)"
   ]
  }
 ],
 "metadata": {
  "kernelspec": {
   "display_name": "Python 3",
   "language": "python",
   "name": "python3"
  },
  "language_info": {
   "codemirror_mode": {
    "name": "ipython",
    "version": 3
   },
   "file_extension": ".py",
   "mimetype": "text/x-python",
   "name": "python",
   "nbconvert_exporter": "python",
   "pygments_lexer": "ipython3",
   "version": "3.12.0"
  }
 },
 "nbformat": 4,
 "nbformat_minor": 2
}
